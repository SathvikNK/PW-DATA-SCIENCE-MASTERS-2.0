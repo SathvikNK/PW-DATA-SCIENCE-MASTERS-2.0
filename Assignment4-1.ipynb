{
 "cells": [
  {
   "cell_type": "markdown",
   "id": "257a2d52-8977-4caf-96f8-8e5ebf4fe0d4",
   "metadata": {
    "jp-MarkdownHeadingCollapsed": true,
    "tags": []
   },
   "source": [
    "# Question 1"
   ]
  },
  {
   "cell_type": "markdown",
   "id": "e1511466-6095-4694-9e6e-7f05cbc7df15",
   "metadata": {},
   "source": [
    " Class is an blueprint which contains a set of functions which have the code to perform the respective operations. i.e. class {class name}\n",
    " \n",
    " Object is the instance of class which is used to call the functions in the class. i.e. {obj name} = {class name}"
   ]
  },
  {
   "cell_type": "code",
   "execution_count": 8,
   "id": "5bb0bf77-0b99-4faa-bd12-339dd70dd4cc",
   "metadata": {},
   "outputs": [],
   "source": [
    "class math:                                     # here math is the class\n",
    "    def __init__(self,a,b):\n",
    "            self.a = a\n",
    "            self.b = b\n",
    "    def s(self):\n",
    "        print(\"The sum is \",self.a + self.b)\n",
    "    def d(self):\n",
    "        print(\"The difference is \",self.a - self.b)\n",
    "    def m(self):\n",
    "        print(\"The product is \", self.a * self.b)\n",
    "    def di(self):\n",
    "        print(\"The quotient is \",self.a/self.b)\n",
    "        "
   ]
  },
  {
   "cell_type": "code",
   "execution_count": 9,
   "id": "b759f497-13be-4033-bb09-1ada5e4d8933",
   "metadata": {},
   "outputs": [
    {
     "name": "stdout",
     "output_type": "stream",
     "text": [
      "The sum is  5\n",
      "The difference is  -1\n",
      "The product is  6\n",
      "The quotient is  0.6666666666666666\n"
     ]
    }
   ],
   "source": [
    "c = math(2,3) # c is object and it is the instance for the class math with values 2 and 3\n",
    "c.s()         # using the object to call the methods in the class\n",
    "c.d() \n",
    "c.m()\n",
    "c.di()"
   ]
  },
  {
   "cell_type": "markdown",
   "id": "d7d8f9c0-366b-4b8e-912d-a9bca9e50400",
   "metadata": {
    "jp-MarkdownHeadingCollapsed": true,
    "tags": []
   },
   "source": [
    "# Question 2"
   ]
  },
  {
   "cell_type": "markdown",
   "id": "c8509faa-d1bd-47fc-9a78-d229107d5367",
   "metadata": {},
   "source": [
    " The four pillars of the OOPS are:\n",
    " \n",
    " -> Inheritance : It is used for code resusability where we have parent and child classes and the child classes the same properties of the parent classes.\n",
    " \n",
    " -> Polymorphism : It is used for overiding and overwriting methods that are present in the written classes , it is more like in a situation where we need to do same operation for two different data types so we have method with same name but we have operation to the data type.\n",
    " \n",
    " -> Encapsulation : It is used for data hiding from the users and showing only the required data.\n",
    " \n",
    " -> Data Abstraction : It is used for hiding the implementation methods from the users and also used in data binding."
   ]
  },
  {
   "cell_type": "markdown",
   "id": "c32dc885-9e54-4aee-9947-b996a20bb761",
   "metadata": {
    "jp-MarkdownHeadingCollapsed": true,
    "tags": []
   },
   "source": [
    "# Question 3"
   ]
  },
  {
   "cell_type": "markdown",
   "id": "746cf2d6-d110-4b4d-9df1-5038e2b0e26f",
   "metadata": {},
   "source": [
    " __init__() is the in-buit method used as constructor and is activated whenever an object is created for the class."
   ]
  },
  {
   "cell_type": "code",
   "execution_count": 10,
   "id": "db0d171a-f2eb-4744-8c03-0dae15de0348",
   "metadata": {},
   "outputs": [
    {
     "name": "stdout",
     "output_type": "stream",
     "text": [
      "Hello World\n"
     ]
    }
   ],
   "source": [
    "# Example:\n",
    "\n",
    "class pwskills:\n",
    "         def __init__(self):\n",
    "            print(\"Hello World\")\n",
    "            \n",
    "pw = pwskills()"
   ]
  },
  {
   "cell_type": "markdown",
   "id": "bec6a8f2-4b76-40e3-8320-5fabbc62e3f4",
   "metadata": {
    "jp-MarkdownHeadingCollapsed": true,
    "tags": []
   },
   "source": [
    "# Question 4"
   ]
  },
  {
   "cell_type": "markdown",
   "id": "242d7552-77a3-4ddd-9d9c-d9f8dfd33fbb",
   "metadata": {},
   "source": [
    " Self is used in the OOPS to refer the methods and parameters present in the class as it represents the instance of the class."
   ]
  },
  {
   "cell_type": "code",
   "execution_count": 16,
   "id": "a4ab8cbb-afa5-4162-b999-5390a1c55f65",
   "metadata": {},
   "outputs": [
    {
     "name": "stdout",
     "output_type": "stream",
     "text": [
      " HI  Ravi\n"
     ]
    }
   ],
   "source": [
    "# Example:\n",
    "class pwskill:\n",
    "       \n",
    "        def  __init__(self,name): # Here self is used to refer the __init__  constructor\n",
    "            self.name = name\n",
    "            print(\" HI \",name)\n",
    "\n",
    "s = pwskill(\"Ravi\")"
   ]
  },
  {
   "cell_type": "markdown",
   "id": "abb28f22-46cf-4a9a-ad65-787688a70872",
   "metadata": {},
   "source": [
    "# Question 5"
   ]
  },
  {
   "cell_type": "markdown",
   "id": "de68d572-ba09-42b3-ac75-552e5c46b219",
   "metadata": {},
   "source": [
    "Inheritance is one of the pillars of the OOPS concept which is used for code resuability. It contains parent and child classes , where child classes can have reference to parent classes.\n",
    "\n",
    "Types of Inheritance:\n",
    "\n",
    "-> Single Inheritance\n",
    "\n",
    "-> Multiple Inheritance/Hierarchical Inheritance\n",
    "\n",
    "-> Multi-Level Inheritance\n",
    "\n",
    "-> Hybrid Inheritance"
   ]
  },
  {
   "cell_type": "code",
   "execution_count": 18,
   "id": "6ac5d752-ebff-4665-9f58-728f0ff9e816",
   "metadata": {},
   "outputs": [
    {
     "name": "stdout",
     "output_type": "stream",
     "text": [
      "This is in Class a\n",
      "This is in Class a\n",
      "This is in Class b\n"
     ]
    }
   ],
   "source": [
    "# Example :\n",
    "\n",
    "# Single Inheritance \n",
    "\n",
    "class a:\n",
    "     def sa(self):\n",
    "            print(\"This is in Class a\")\n",
    "\n",
    "class b(a):\n",
    "     def sb(self):\n",
    "            print(\"This is in Class b\")\n",
    "            \n",
    "oa = a()\n",
    "ob = b()\n",
    "oa.sa()\n",
    "ob.sa() # As b in the child class it can call class a methods\n",
    "ob.sb()"
   ]
  },
  {
   "cell_type": "code",
   "execution_count": 20,
   "id": "be2dcc9e-e9dd-465f-8420-cf59b4884f90",
   "metadata": {},
   "outputs": [
    {
     "name": "stdout",
     "output_type": "stream",
     "text": [
      "This is in Class a\n",
      "This is in Class a\n",
      "This is in Class b\n",
      "This is in Class a\n",
      "This is in Class b\n",
      "This is in Class c\n"
     ]
    }
   ],
   "source": [
    "# Example :\n",
    "\n",
    "# Multi-level Inheritance \n",
    "\n",
    "class a:\n",
    "     def sa(self):\n",
    "            print(\"This is in Class a\")\n",
    "\n",
    "class b(a):\n",
    "     def sb(self):\n",
    "            print(\"This is in Class b\")\n",
    "            \n",
    "class c(b):\n",
    "     def sc(self):\n",
    "            print(\"This is in Class c\")\n",
    "            \n",
    "oa = a()\n",
    "ob = b()\n",
    "oc = c()\n",
    "oa.sa()\n",
    "ob.sa() \n",
    "ob.sb()\n",
    "oc.sa() # As c in the child class it can call class a methods\n",
    "oc.sb() # As c in the child class it can call class b methods\n",
    "oc.sc()\n"
   ]
  },
  {
   "cell_type": "code",
   "execution_count": 21,
   "id": "ed72c520-aade-49d9-9437-b91b7fef0a50",
   "metadata": {},
   "outputs": [
    {
     "name": "stdout",
     "output_type": "stream",
     "text": [
      "This is in Class a\n",
      "This is in Class b\n",
      "This is in Class a\n",
      "This is in Class b\n",
      "This is in Class c\n"
     ]
    }
   ],
   "source": [
    "# Example :\n",
    "\n",
    "# Multiple Inheritance/Hierarchical Inheritance\n",
    "\n",
    "class a:\n",
    "     def sa(self):\n",
    "            print(\"This is in Class a\")\n",
    "\n",
    "class b:\n",
    "     def sb(self):\n",
    "            print(\"This is in Class b\")\n",
    "            \n",
    "class c(a,b):\n",
    "     def sc(self):\n",
    "            print(\"This is in Class c\")\n",
    "            \n",
    "oa = a()\n",
    "ob = b()\n",
    "oc = c()\n",
    "oa.sa()\n",
    "ob.sb()\n",
    "oc.sa() # As c in the child class it can call class a methods\n",
    "oc.sb() # As c in the child class it can call class b methods\n",
    "oc.sc()\n"
   ]
  },
  {
   "cell_type": "code",
   "execution_count": null,
   "id": "acd6640f-86c4-4c67-82ea-293e4a8ad068",
   "metadata": {},
   "outputs": [],
   "source": [
    "# Example :\n",
    "\n",
    "# Multiple Inheritance/Hierarchical Inheritance\n",
    "\n",
    "class a:\n",
    "     def sa(self):\n",
    "            print(\"This is in Class a\")\n",
    "\n",
    "class b:\n",
    "     def sb(self):\n",
    "            print(\"This is in Class b\")\n",
    "            \n",
    "class c(a,b):\n",
    "     def sc(self):\n",
    "            print(\"This is in Class c\")\n",
    "class d(b):\n",
    "     def sd(self):\n",
    "            print(\"This is in Class d\")\n",
    "\n",
    "            \n",
    "oa = a()\n",
    "ob = b()\n",
    "oc = c()\n",
    "oa.sa()\n",
    "ob.sb()\n",
    "oc.sa() # As c in the child class it can call class a methods\n",
    "oc.sb() # As c in the child class it can call class b methods\n",
    "oc.sc()\n",
    "\n"
   ]
  }
 ],
 "metadata": {
  "kernelspec": {
   "display_name": "Python 3 (ipykernel)",
   "language": "python",
   "name": "python3"
  },
  "language_info": {
   "codemirror_mode": {
    "name": "ipython",
    "version": 3
   },
   "file_extension": ".py",
   "mimetype": "text/x-python",
   "name": "python",
   "nbconvert_exporter": "python",
   "pygments_lexer": "ipython3",
   "version": "3.10.8"
  }
 },
 "nbformat": 4,
 "nbformat_minor": 5
}
