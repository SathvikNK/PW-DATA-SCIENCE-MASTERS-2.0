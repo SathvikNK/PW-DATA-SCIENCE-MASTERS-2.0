{
 "cells": [
  {
   "cell_type": "markdown",
   "id": "7cfe36ef-e9c0-4cb6-a173-8c256e3f85a5",
   "metadata": {
    "tags": []
   },
   "source": [
    "## Question 1"
   ]
  },
  {
   "cell_type": "markdown",
   "id": "d5ab5464-7ca7-4fc9-87fb-3c2afc2986d8",
   "metadata": {},
   "source": [
    "We can comment in python using \"#\" at the starting of the line"
   ]
  },
  {
   "cell_type": "code",
   "execution_count": 25,
   "id": "ef6b42e7-a786-4568-a6f6-fdf3ab1a7fb9",
   "metadata": {},
   "outputs": [],
   "source": [
    "# This is an example of single line command."
   ]
  },
  {
   "cell_type": "markdown",
   "id": "f0236264-0c05-4161-8350-c19fc9a2ed05",
   "metadata": {},
   "source": [
    "We can do multi-line comment by using \" ''' \""
   ]
  },
  {
   "cell_type": "code",
   "execution_count": 26,
   "id": "46aec831-8fd1-4172-bdbe-52dd7065a7c5",
   "metadata": {},
   "outputs": [
    {
     "data": {
      "text/plain": [
       "' This is multi-line\\n    comment '"
      ]
     },
     "execution_count": 26,
     "metadata": {},
     "output_type": "execute_result"
    }
   ],
   "source": [
    "\"\"\" This is multi-line\n",
    "    comment \"\"\""
   ]
  },
  {
   "cell_type": "markdown",
   "id": "b37f90fc-13ae-406d-ba44-d14c69965e14",
   "metadata": {
    "tags": []
   },
   "source": [
    "## Question 2\n"
   ]
  },
  {
   "cell_type": "markdown",
   "id": "1225e48e-0ac6-4c0e-9fb4-f20ab285658a",
   "metadata": {},
   "source": [
    "Variable are the ones which hold data and in python we don't have to specifically define datatype of the variables."
   ]
  },
  {
   "cell_type": "code",
   "execution_count": 27,
   "id": "7c0e7e3f-579d-46f5-9912-3b6e38580f36",
   "metadata": {},
   "outputs": [
    {
     "data": {
      "text/plain": [
       "int"
      ]
     },
     "execution_count": 27,
     "metadata": {},
     "output_type": "execute_result"
    }
   ],
   "source": [
    "a=10\n",
    "type(a)"
   ]
  },
  {
   "cell_type": "code",
   "execution_count": 28,
   "id": "32e2ca38-7eff-4f27-9536-bdecd2709f95",
   "metadata": {},
   "outputs": [
    {
     "data": {
      "text/plain": [
       "float"
      ]
     },
     "execution_count": 28,
     "metadata": {},
     "output_type": "execute_result"
    }
   ],
   "source": [
    "b=10.5\n",
    "type(b)"
   ]
  },
  {
   "cell_type": "code",
   "execution_count": 29,
   "id": "6723b78d-3cc6-4885-9d0f-8bc90b1c3812",
   "metadata": {},
   "outputs": [
    {
     "data": {
      "text/plain": [
       "bool"
      ]
     },
     "execution_count": 29,
     "metadata": {},
     "output_type": "execute_result"
    }
   ],
   "source": [
    "c=True\n",
    "type(c)"
   ]
  },
  {
   "cell_type": "code",
   "execution_count": 30,
   "id": "74638ce3-a2b0-4ea2-916f-ffa8d8ce4948",
   "metadata": {},
   "outputs": [
    {
     "data": {
      "text/plain": [
       "str"
      ]
     },
     "execution_count": 30,
     "metadata": {},
     "output_type": "execute_result"
    }
   ],
   "source": [
    "d=\"String\"\n",
    "type(d)"
   ]
  },
  {
   "cell_type": "markdown",
   "id": "fa262f80-6406-4ece-8524-917b875b3bdb",
   "metadata": {
    "tags": []
   },
   "source": [
    "## Question 3 "
   ]
  },
  {
   "cell_type": "markdown",
   "id": "81cbd8bc-88fd-4674-9d1d-c8074f9e764a",
   "metadata": {},
   "source": [
    "We can convert variables from one data type to another by using in-built functions i.e. int(),float(),str(),bool()"
   ]
  },
  {
   "cell_type": "code",
   "execution_count": 31,
   "id": "dd6b2fc1-4bf0-4469-add6-fca7f57dc25a",
   "metadata": {},
   "outputs": [
    {
     "data": {
      "text/plain": [
       "True"
      ]
     },
     "execution_count": 31,
     "metadata": {},
     "output_type": "execute_result"
    }
   ],
   "source": [
    "bool(a) # Here can see that a is integer but converted to Boolean Datatype."
   ]
  },
  {
   "cell_type": "code",
   "execution_count": 32,
   "id": "0c861132-1553-4b3f-8feb-55487a370576",
   "metadata": {},
   "outputs": [
    {
     "data": {
      "text/plain": [
       "int"
      ]
     },
     "execution_count": 32,
     "metadata": {},
     "output_type": "execute_result"
    }
   ],
   "source": [
    "type(a)"
   ]
  },
  {
   "cell_type": "code",
   "execution_count": 33,
   "id": "c65679c0-a779-4f82-82bc-b3efab74795b",
   "metadata": {},
   "outputs": [
    {
     "data": {
      "text/plain": [
       "'10.5'"
      ]
     },
     "execution_count": 33,
     "metadata": {},
     "output_type": "execute_result"
    }
   ],
   "source": [
    "str(b) # Here can see that b is Float but converted to String Datatype."
   ]
  },
  {
   "cell_type": "code",
   "execution_count": 34,
   "id": "052bd3ce-610c-49be-a600-7eb7276107af",
   "metadata": {},
   "outputs": [
    {
     "data": {
      "text/plain": [
       "float"
      ]
     },
     "execution_count": 34,
     "metadata": {},
     "output_type": "execute_result"
    }
   ],
   "source": [
    "type(b)"
   ]
  },
  {
   "cell_type": "code",
   "execution_count": 35,
   "id": "301af54b-3e7b-486c-870f-cb4ba3869ebe",
   "metadata": {},
   "outputs": [
    {
     "data": {
      "text/plain": [
       "['S', 't', 'r', 'i', 'n', 'g']"
      ]
     },
     "execution_count": 35,
     "metadata": {},
     "output_type": "execute_result"
    }
   ],
   "source": [
    "list(d) # Here can see that d is string but converted to List Datatype."
   ]
  },
  {
   "cell_type": "code",
   "execution_count": 36,
   "id": "f4a7575b-933c-4866-8e20-f2322ad2597c",
   "metadata": {},
   "outputs": [
    {
     "data": {
      "text/plain": [
       "str"
      ]
     },
     "execution_count": 36,
     "metadata": {},
     "output_type": "execute_result"
    }
   ],
   "source": [
    "type(d)"
   ]
  },
  {
   "cell_type": "markdown",
   "id": "5d97760a-039e-488c-930d-8570f05a1159",
   "metadata": {
    "tags": []
   },
   "source": [
    "## Question 4"
   ]
  },
  {
   "cell_type": "markdown",
   "id": "722b8a9e-59e9-4623-a2d5-6423501d87b0",
   "metadata": {},
   "source": [
    "We can use print() and input() to use python command line"
   ]
  },
  {
   "cell_type": "code",
   "execution_count": 37,
   "id": "b8df7c3c-f9d4-4756-a2b7-29ef8dbf2c5a",
   "metadata": {},
   "outputs": [
    {
     "name": "stdin",
     "output_type": "stream",
     "text": [
      " Hello World\n"
     ]
    }
   ],
   "source": [
    "a=input()"
   ]
  },
  {
   "cell_type": "code",
   "execution_count": 38,
   "id": "87f3b118-e18e-4552-b579-59811ae821c6",
   "metadata": {},
   "outputs": [
    {
     "name": "stdout",
     "output_type": "stream",
     "text": [
      "Hello World\n"
     ]
    }
   ],
   "source": [
    "print(a)"
   ]
  },
  {
   "cell_type": "markdown",
   "id": "0334dfe3-f792-4a0e-9c5a-859c16e2358a",
   "metadata": {
    "tags": []
   },
   "source": [
    "## Question 5"
   ]
  },
  {
   "cell_type": "code",
   "execution_count": 40,
   "id": "e56aef61-3f91-4e1a-a171-c846fc9d43be",
   "metadata": {},
   "outputs": [],
   "source": [
    "my_list=[1,2,3,4,5]"
   ]
  },
  {
   "cell_type": "code",
   "execution_count": 41,
   "id": "769cef09-328b-4bb9-a1f0-f01920abe5c4",
   "metadata": {},
   "outputs": [
    {
     "name": "stdout",
     "output_type": "stream",
     "text": [
      "[2, 3]\n"
     ]
    }
   ],
   "source": [
    "print(my_list[1:3])"
   ]
  },
  {
   "cell_type": "markdown",
   "id": "949a0230-be62-49f5-8596-088adb0de47c",
   "metadata": {
    "tags": []
   },
   "source": [
    "## Question 6"
   ]
  },
  {
   "cell_type": "markdown",
   "id": "308d5e3f-e6f6-466b-9d30-9f510d1ee5e8",
   "metadata": {},
   "source": [
    "When we have imaginary number it is called Complex number i.e. 5+1j where 5 is Real Number and 1 is Imaginary Number."
   ]
  },
  {
   "cell_type": "markdown",
   "id": "833c3aa0-15a2-49ce-bc91-4f8057faa56c",
   "metadata": {},
   "source": [
    "We can also have complex numbers in python in similar way but no other alphabet can be use instead of j for imaginary number."
   ]
  },
  {
   "cell_type": "code",
   "execution_count": 43,
   "id": "8f201a45-90d0-4019-8d9f-1660ca3e8594",
   "metadata": {},
   "outputs": [
    {
     "data": {
      "text/plain": [
       "complex"
      ]
     },
     "execution_count": 43,
     "metadata": {},
     "output_type": "execute_result"
    }
   ],
   "source": [
    "a=5+1j\n",
    "type(a)"
   ]
  },
  {
   "cell_type": "code",
   "execution_count": 46,
   "id": "333ac86f-3fdb-4a01-a693-a68215ee11b3",
   "metadata": {},
   "outputs": [
    {
     "data": {
      "text/plain": [
       "5.0"
      ]
     },
     "execution_count": 46,
     "metadata": {},
     "output_type": "execute_result"
    }
   ],
   "source": [
    "# We can real number of the complex number \n",
    "a.real"
   ]
  },
  {
   "cell_type": "code",
   "execution_count": 48,
   "id": "08b592c3-c713-4d0e-b2c7-0538d4617378",
   "metadata": {},
   "outputs": [
    {
     "data": {
      "text/plain": [
       "1.0"
      ]
     },
     "execution_count": 48,
     "metadata": {},
     "output_type": "execute_result"
    }
   ],
   "source": [
    "# We can imaginary number of the complex number \n",
    "a.imag"
   ]
  },
  {
   "cell_type": "markdown",
   "id": "b08f0194-c944-4c0d-8b13-bfbabb3729e5",
   "metadata": {
    "tags": []
   },
   "source": [
    "## Question 7"
   ]
  },
  {
   "cell_type": "code",
   "execution_count": 50,
   "id": "188a9e1d-5a80-4ab4-b918-bd77deb6d186",
   "metadata": {},
   "outputs": [
    {
     "data": {
      "text/plain": [
       "25"
      ]
     },
     "execution_count": 50,
     "metadata": {},
     "output_type": "execute_result"
    }
   ],
   "source": [
    "# Correct way to declare a variable and assign value to it\n",
    "age=25\n",
    "age"
   ]
  },
  {
   "cell_type": "markdown",
   "id": "4fd0fd0b-99b1-455e-a26d-d2ea429e301f",
   "metadata": {
    "tags": []
   },
   "source": [
    "## Question 8"
   ]
  },
  {
   "cell_type": "code",
   "execution_count": 53,
   "id": "ec7d13b8-82e5-4706-b4e8-34b0ef5d6200",
   "metadata": {},
   "outputs": [
    {
     "data": {
      "text/plain": [
       "float"
      ]
     },
     "execution_count": 53,
     "metadata": {},
     "output_type": "execute_result"
    }
   ],
   "source": [
    "price=9.99 # It is of Float datatype\n",
    "type(price)"
   ]
  },
  {
   "cell_type": "code",
   "execution_count": 66,
   "id": "82c0c5a2-809f-4ba6-a255-a361f56e9553",
   "metadata": {},
   "outputs": [
    {
     "data": {
      "text/plain": [
       "10.0"
      ]
     },
     "execution_count": 66,
     "metadata": {},
     "output_type": "execute_result"
    }
   ],
   "source": [
    "price=9.9999999999999999 # If have 9 till 16th decimcial point it rounds to next number.\n",
    "price"
   ]
  },
  {
   "cell_type": "markdown",
   "id": "769e07e5-bde9-4df8-9230-c635e0f06ec6",
   "metadata": {
    "tags": []
   },
   "source": [
    "## Question 9"
   ]
  },
  {
   "cell_type": "code",
   "execution_count": 67,
   "id": "5550b4c4-bcce-4c7f-84a8-6f7b455ac0d7",
   "metadata": {},
   "outputs": [],
   "source": [
    "name='Sathvik'"
   ]
  },
  {
   "cell_type": "code",
   "execution_count": 68,
   "id": "8a001943-aca3-4408-a875-de9ecf033b26",
   "metadata": {},
   "outputs": [
    {
     "name": "stdout",
     "output_type": "stream",
     "text": [
      "Sathvik\n"
     ]
    }
   ],
   "source": [
    "print(name) # we use print() to to print the variables"
   ]
  },
  {
   "cell_type": "markdown",
   "id": "0200d667-71e8-4740-b1b4-cfbda5ce8038",
   "metadata": {
    "tags": []
   },
   "source": [
    "## Question 10"
   ]
  },
  {
   "cell_type": "code",
   "execution_count": 72,
   "id": "4432563d-2a0d-4645-a227-9a6f493d7f20",
   "metadata": {},
   "outputs": [
    {
     "name": "stdout",
     "output_type": "stream",
     "text": [
      "World\n"
     ]
    }
   ],
   "source": [
    "a=\"Hello, World!\"\n",
    "print(a[7:12])"
   ]
  },
  {
   "cell_type": "markdown",
   "id": "4040f320-e392-45f2-8e9b-3d23ddb4283e",
   "metadata": {
    "tags": []
   },
   "source": [
    "## Question 11"
   ]
  },
  {
   "cell_type": "code",
   "execution_count": 75,
   "id": "717af264-11d9-40ba-b804-4dd6a6e787cd",
   "metadata": {},
   "outputs": [
    {
     "name": "stdout",
     "output_type": "stream",
     "text": [
      "I am student\n"
     ]
    }
   ],
   "source": [
    "is_student=True # Boolean values can be assigned to the variables\n",
    "if is_student :\n",
    "    print(\"I am student\")\n",
    "else:\n",
    "    print(\"I am not a student\")"
   ]
  },
  {
   "cell_type": "code",
   "execution_count": 77,
   "id": "e664bcba-1f22-4bc6-b62d-4dc3310a3311",
   "metadata": {},
   "outputs": [
    {
     "name": "stdout",
     "output_type": "stream",
     "text": [
      "I am not a student\n"
     ]
    }
   ],
   "source": [
    "is_student=0 # Here 0 is considered as False and 1 as True\n",
    "if is_student :\n",
    "    print(\"I am student\")\n",
    "else:\n",
    "    print(\"I am not a student\")"
   ]
  },
  {
   "cell_type": "code",
   "execution_count": null,
   "id": "b13d457c-2751-4e98-8c72-b8cf1c8e043d",
   "metadata": {},
   "outputs": [],
   "source": []
  }
 ],
 "metadata": {
  "kernelspec": {
   "display_name": "Python 3 (ipykernel)",
   "language": "python",
   "name": "python3"
  },
  "language_info": {
   "codemirror_mode": {
    "name": "ipython",
    "version": 3
   },
   "file_extension": ".py",
   "mimetype": "text/x-python",
   "name": "python",
   "nbconvert_exporter": "python",
   "pygments_lexer": "ipython3",
   "version": "3.10.8"
  }
 },
 "nbformat": 4,
 "nbformat_minor": 5
}
