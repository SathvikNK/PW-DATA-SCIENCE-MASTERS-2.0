{
 "cells": [
  {
   "cell_type": "markdown",
   "id": "a5474fa6-aba0-4e0b-a95a-4420e090cb97",
   "metadata": {},
   "source": [
    "# Question 1"
   ]
  },
  {
   "cell_type": "code",
   "execution_count": 52,
   "id": "35aa4a22-10ab-4d58-91aa-d6bd7abcbe97",
   "metadata": {},
   "outputs": [],
   "source": [
    "class vehicle :\n",
    "    def __init__(self, name_of_vehicle , max_speed , average_of_vehicle):\n",
    "                 self.name = name_of_vehicle\n",
    "                 self.speed = max_speed\n",
    "                 self.average = average_of_vehicle\n",
    "                \n",
    "    def details(self):\n",
    "         print( self.name , self.speed , self.average)"
   ]
  },
  {
   "cell_type": "code",
   "execution_count": 54,
   "id": "ebe5923e-a00c-4c7f-a508-17ade81df08f",
   "metadata": {},
   "outputs": [
    {
     "name": "stdout",
     "output_type": "stream",
     "text": [
      "Toyota 200 130\n"
     ]
    }
   ],
   "source": [
    "v = vehicle(\"Toyota\",200,130)\n",
    "v.details()"
   ]
  },
  {
   "cell_type": "markdown",
   "id": "3777b134-101d-4429-ae21-1036ceba3abc",
   "metadata": {},
   "source": [
    "# Question 2"
   ]
  },
  {
   "cell_type": "code",
   "execution_count": 59,
   "id": "dcc53e4d-3d4f-465a-a960-d03ee92f3576",
   "metadata": {},
   "outputs": [],
   "source": [
    "class car(vehicle):\n",
    "    def __init__(self,capacity):\n",
    "        print(self.name, capacity)"
   ]
  },
  {
   "cell_type": "code",
   "execution_count": 60,
   "id": "7e87c4f4-b23b-47d8-91a0-9a28b0c9a79f",
   "metadata": {},
   "outputs": [
    {
     "ename": "AttributeError",
     "evalue": "'car' object has no attribute 'name'",
     "output_type": "error",
     "traceback": [
      "\u001b[0;31m---------------------------------------------------------------------------\u001b[0m",
      "\u001b[0;31mAttributeError\u001b[0m                            Traceback (most recent call last)",
      "Cell \u001b[0;32mIn[60], line 1\u001b[0m\n\u001b[0;32m----> 1\u001b[0m c \u001b[38;5;241m=\u001b[39m \u001b[43mcar\u001b[49m\u001b[43m(\u001b[49m\u001b[38;5;241;43m4\u001b[39;49m\u001b[43m)\u001b[49m\n",
      "Cell \u001b[0;32mIn[59], line 3\u001b[0m, in \u001b[0;36mcar.__init__\u001b[0;34m(self, capacity)\u001b[0m\n\u001b[1;32m      2\u001b[0m \u001b[38;5;28;01mdef\u001b[39;00m \u001b[38;5;21m__init__\u001b[39m(\u001b[38;5;28mself\u001b[39m,capacity):\n\u001b[0;32m----> 3\u001b[0m     \u001b[38;5;28mprint\u001b[39m(\u001b[38;5;28;43mself\u001b[39;49m\u001b[38;5;241;43m.\u001b[39;49m\u001b[43mname\u001b[49m, capacity)\n",
      "\u001b[0;31mAttributeError\u001b[0m: 'car' object has no attribute 'name'"
     ]
    }
   ],
   "source": [
    "c = car(4)"
   ]
  },
  {
   "cell_type": "code",
   "execution_count": 58,
   "id": "d1350206-a8d0-404d-b2b9-067c554940c1",
   "metadata": {},
   "outputs": [
    {
     "name": "stdout",
     "output_type": "stream",
     "text": [
      "4\n"
     ]
    }
   ],
   "source": [
    "c.details()"
   ]
  },
  {
   "cell_type": "markdown",
   "id": "46e81369-3f16-477a-83e2-d824efa1e3e2",
   "metadata": {
    "jp-MarkdownHeadingCollapsed": true,
    "tags": []
   },
   "source": [
    "# Question 3"
   ]
  },
  {
   "cell_type": "markdown",
   "id": "61d03b39-483f-4026-8945-8cdb3ca8d0ac",
   "metadata": {},
   "source": [
    "Mutiple Inheritance is when one class is derived or when one class has more than one parent class.It is also know as Hierarchical Inheritance."
   ]
  },
  {
   "cell_type": "code",
   "execution_count": 30,
   "id": "32d7f199-7c4a-49a3-acc4-679fec669214",
   "metadata": {},
   "outputs": [
    {
     "name": "stdout",
     "output_type": "stream",
     "text": [
      "This is Class A\n",
      "This is Class B\n",
      "This is Class C\n"
     ]
    }
   ],
   "source": [
    "#Example\n",
    "\n",
    "class a:\n",
    "    def sa(self):\n",
    "         print(\"This is Class A\")\n",
    "class b:\n",
    "    def sb(self):\n",
    "         print(\"This is Class B\")\n",
    "class c(a,b):\n",
    "    def sc(self):\n",
    "         print(\"This is Class C\")\n",
    "            \n",
    "oc = c()\n",
    "oc.sa() # As C is child class of A\n",
    "oc.sb() # As C is child class of B\n",
    "oc.sc()\n"
   ]
  },
  {
   "cell_type": "markdown",
   "id": "b4dd1c83-50f9-4d6e-a2b7-66b0ae3f1f47",
   "metadata": {
    "jp-MarkdownHeadingCollapsed": true,
    "tags": []
   },
   "source": [
    "# Question 4"
   ]
  },
  {
   "cell_type": "markdown",
   "id": "a515a978-9e60-4cfa-b6de-65223d173cbe",
   "metadata": {},
   "source": [
    " Getters and Setters are methods used to access and modify the attributes of an object,and giving access to have control over it. They are commonly used in OOPS for implementation the concept of encapsulation."
   ]
  },
  {
   "cell_type": "code",
   "execution_count": 43,
   "id": "f9254e57-c18b-492e-b514-7190a020777a",
   "metadata": {},
   "outputs": [],
   "source": [
    "#Example: \n",
    "class pwskills:\n",
    "       def __init__(self, course_price, course_name):\n",
    "                    self.__course_price = course_price\n",
    "                    self.course_name = course_name\n",
    "                      \n",
    "       @property                                 # Getter\n",
    "       def course_price_access(self):\n",
    "                   return self.__course_price\n",
    "\n",
    "       @course_price_access.setter               # Setter\n",
    "       def course_price_set(self,price):\n",
    "                   if price <= 3500:\n",
    "                            pass\n",
    "                   else: \n",
    "                    self.__course_price = price"
   ]
  },
  {
   "cell_type": "code",
   "execution_count": 51,
   "id": "18d0a8df-5034-4d86-81a2-8d15f5e6281c",
   "metadata": {},
   "outputs": [
    {
     "name": "stdout",
     "output_type": "stream",
     "text": [
      "200\n",
      "10000\n"
     ]
    }
   ],
   "source": [
    "pw = pwskills(200,\"Crash_Course\")\n",
    "print(pw.course_price_access) # Using Getter we can have access to private variable\n",
    "pw.course_price_set = 10000   # Using Setter we can change value of private variable\n",
    "print(pw.course_price_access)"
   ]
  },
  {
   "cell_type": "markdown",
   "id": "7b8e81ce-2d82-4d97-8233-745ca8060a37",
   "metadata": {
    "jp-MarkdownHeadingCollapsed": true,
    "tags": []
   },
   "source": [
    "# Question 5"
   ]
  },
  {
   "cell_type": "markdown",
   "id": "c0a50bcb-5ecf-4bef-b2c2-0f0c5a852de0",
   "metadata": {},
   "source": [
    "Method Overiding is one of the concepts in Polymorphism in OOPS where we have more than one class with same method name and the overide each other according to the instance there are called by."
   ]
  },
  {
   "cell_type": "code",
   "execution_count": 35,
   "id": "9d17b83f-0d92-4484-8007-c0aa3a796771",
   "metadata": {},
   "outputs": [],
   "source": [
    "#Example:\n",
    "class A():\n",
    "\tdef __init__(self):\n",
    "\t\tself.value = \"Inside A\"\n",
    "\t\t\n",
    "\tdef show(self):\n",
    "\t\tprint(self.value)\n",
    "\n",
    "class B(A):\n",
    "\n",
    "\tdef __init__(self):\n",
    "\t\tself.value = \"Inside B\"\n",
    "\n",
    "\tdef show(self):\n",
    "\t\tprint(self.value)"
   ]
  },
  {
   "cell_type": "code",
   "execution_count": 37,
   "id": "a141ab59-1a09-4688-9128-cb120a06b639",
   "metadata": {},
   "outputs": [
    {
     "name": "stdout",
     "output_type": "stream",
     "text": [
      "Inside A\n",
      "Inside B\n"
     ]
    }
   ],
   "source": [
    "objA = A()  # Object for Class A\n",
    "objB = B()  # Object for Class B\n",
    "\n",
    "objA.show() # SHow method in Class A\n",
    "objB.show() # Here show method in Class A is overriden by the show method in Class B"
   ]
  },
  {
   "cell_type": "code",
   "execution_count": null,
   "id": "f6e36694-4d8d-4294-ba20-75b6ecb1b442",
   "metadata": {},
   "outputs": [],
   "source": []
  }
 ],
 "metadata": {
  "kernelspec": {
   "display_name": "Python 3 (ipykernel)",
   "language": "python",
   "name": "python3"
  },
  "language_info": {
   "codemirror_mode": {
    "name": "ipython",
    "version": 3
   },
   "file_extension": ".py",
   "mimetype": "text/x-python",
   "name": "python",
   "nbconvert_exporter": "python",
   "pygments_lexer": "ipython3",
   "version": "3.10.8"
  }
 },
 "nbformat": 4,
 "nbformat_minor": 5
}
