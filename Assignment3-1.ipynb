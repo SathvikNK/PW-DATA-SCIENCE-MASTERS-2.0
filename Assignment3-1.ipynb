{
 "cells": [
  {
   "cell_type": "markdown",
   "id": "8da70e3e-4031-4f46-a0d9-33c87e973633",
   "metadata": {
    "jp-MarkdownHeadingCollapsed": true,
    "tags": []
   },
   "source": [
    "## Question 1"
   ]
  },
  {
   "cell_type": "markdown",
   "id": "6aa8f5bb-244f-4f67-8c54-0ca780fe7c85",
   "metadata": {},
   "source": [
    "'def' is the keyword used to create functions in the python. "
   ]
  },
  {
   "cell_type": "code",
   "execution_count": 2,
   "id": "08557881-528c-47c2-bf85-9512ee71477c",
   "metadata": {},
   "outputs": [],
   "source": [
    "def odd():\n",
    "    for i in range(1,26):\n",
    "        if i%2!=0:\n",
    "            print(i)\n",
    "#List of all odd numbers betweeen 1 to 25 will be printed            "
   ]
  },
  {
   "cell_type": "code",
   "execution_count": 3,
   "id": "4f299a04-aed2-4929-9441-2c1b2e66572b",
   "metadata": {},
   "outputs": [
    {
     "name": "stdout",
     "output_type": "stream",
     "text": [
      "1\n",
      "3\n",
      "5\n",
      "7\n",
      "9\n",
      "11\n",
      "13\n",
      "15\n",
      "17\n",
      "19\n",
      "21\n",
      "23\n",
      "25\n"
     ]
    }
   ],
   "source": [
    "odd()"
   ]
  },
  {
   "cell_type": "markdown",
   "id": "a085998f-8637-4459-9bc2-a12d48e774ea",
   "metadata": {
    "jp-MarkdownHeadingCollapsed": true,
    "tags": []
   },
   "source": [
    "## Question 2"
   ]
  },
  {
   "cell_type": "markdown",
   "id": "65382023-e3fc-4b2b-9434-03597d2456d0",
   "metadata": {},
   "source": [
    "*args and **kwargs are used when the number of arguements are unknown and we can have n number of arguements in the function call."
   ]
  },
  {
   "cell_type": "markdown",
   "id": "251b5ea1-0fcd-401c-9eb9-7c67c022e070",
   "metadata": {},
   "source": [
    "*args is used only for digits and **kwargs is used for building Key-Value bond in the parameters."
   ]
  },
  {
   "cell_type": "code",
   "execution_count": 7,
   "id": "0587439f-7ed3-4bd9-8a31-8f741eea711b",
   "metadata": {},
   "outputs": [],
   "source": [
    "def sum(*args):\n",
    "    s=0\n",
    "    for i in args:\n",
    "        s+=i\n",
    "    print(s)"
   ]
  },
  {
   "cell_type": "code",
   "execution_count": 8,
   "id": "926c60c2-c642-4151-83da-509db6dec039",
   "metadata": {},
   "outputs": [
    {
     "name": "stdout",
     "output_type": "stream",
     "text": [
      "6\n"
     ]
    }
   ],
   "source": [
    "sum(1,2,3) # 3 arguements"
   ]
  },
  {
   "cell_type": "code",
   "execution_count": 9,
   "id": "ca05ff74-f6ac-4984-90d3-84c8778b6449",
   "metadata": {},
   "outputs": [
    {
     "name": "stdout",
     "output_type": "stream",
     "text": [
      "15\n"
     ]
    }
   ],
   "source": [
    "sum(1,2,3,4,5) # 5 arguements"
   ]
  },
  {
   "cell_type": "code",
   "execution_count": 16,
   "id": "4b3b909d-a474-49a6-be0a-257d6f8a906c",
   "metadata": {},
   "outputs": [],
   "source": [
    "def dic(**kwargs):\n",
    "    return kwargs\n",
    "\n",
    "        "
   ]
  },
  {
   "cell_type": "code",
   "execution_count": 17,
   "id": "e7aaed72-425e-4ab0-8b64-c2f9f897963b",
   "metadata": {},
   "outputs": [
    {
     "data": {
      "text/plain": [
       "{'a': 1, 'b': 23, 'c': 4}"
      ]
     },
     "execution_count": 17,
     "metadata": {},
     "output_type": "execute_result"
    }
   ],
   "source": [
    "dic(a=1,b=23,c=4)"
   ]
  },
  {
   "cell_type": "code",
   "execution_count": 18,
   "id": "7b5e28ba-de97-4a54-ba79-c863b990c83a",
   "metadata": {},
   "outputs": [
    {
     "data": {
      "text/plain": [
       "{'a': 10, 'b': 2, 'c': 30, 'd': 4}"
      ]
     },
     "execution_count": 18,
     "metadata": {},
     "output_type": "execute_result"
    }
   ],
   "source": [
    "dic(a=10,b=2,c=30,d=4)"
   ]
  },
  {
   "cell_type": "markdown",
   "id": "3d43f508-8c64-472a-96ef-f832553c44dd",
   "metadata": {
    "jp-MarkdownHeadingCollapsed": true,
    "tags": []
   },
   "source": [
    "## Question 3"
   ]
  },
  {
   "cell_type": "markdown",
   "id": "c1c9decb-e104-4e2b-8b37-270fe6ee6b77",
   "metadata": {},
   "source": [
    "iterator in python is the object that is used for the implementation of the iteration. \n",
    "It consists of two methods and they are \"__iter__()\" which is used for initialization of the iterator object and \"__next__()\" which is used to move focus of iterator from present object to next object."
   ]
  },
  {
   "cell_type": "code",
   "execution_count": 32,
   "id": "47dc5c10-bf51-4ad2-b5ce-06109912cc69",
   "metadata": {},
   "outputs": [
    {
     "name": "stdout",
     "output_type": "stream",
     "text": [
      "2\n",
      "4\n",
      "6\n",
      "8\n",
      "10\n"
     ]
    }
   ],
   "source": [
    "li= [2, 4, 6, 8, 10, 12, 14, 16, 18, 20]\n",
    "my_iter=iter(li)\n",
    "for i in range(5):\n",
    "    x=next(my_iter)\n",
    "    print(x)"
   ]
  },
  {
   "cell_type": "markdown",
   "id": "55cd21c7-7619-4ab4-82e7-6fa130bc7163",
   "metadata": {
    "jp-MarkdownHeadingCollapsed": true,
    "tags": []
   },
   "source": [
    "## Question 4"
   ]
  },
  {
   "cell_type": "markdown",
   "id": "6a72b9f5-b330-4ba8-a280-ffd31e864fde",
   "metadata": {},
   "source": [
    "The most common example of this kind of function is range() which returns only an object rather than a datatype. So this kind of function is used to generate a range of certain sequences one by one rather than returning at once."
   ]
  },
  {
   "cell_type": "markdown",
   "id": "2bebcebf-cd54-4980-b544-ca1f27c3612a",
   "metadata": {},
   "source": [
    "Here yield keyword is used for the storing the data in the process of iteration operations."
   ]
  },
  {
   "cell_type": "code",
   "execution_count": 27,
   "id": "19bdaa8e-d00f-49f9-be35-642a8c5835b8",
   "metadata": {},
   "outputs": [],
   "source": [
    "#Example of Generator Function\n",
    "def test_fib(n):\n",
    "    a,b=0,1\n",
    "    for i in range(n):\n",
    "        yield a\n",
    "        a,b=b,a+b"
   ]
  },
  {
   "cell_type": "code",
   "execution_count": 28,
   "id": "3216e234-9755-4aee-af91-f1715a78207b",
   "metadata": {},
   "outputs": [
    {
     "name": "stdout",
     "output_type": "stream",
     "text": [
      "0 1 1 2 3 "
     ]
    }
   ],
   "source": [
    "for i in test_fib(5):\n",
    "         print(i,end=' ')"
   ]
  },
  {
   "cell_type": "markdown",
   "id": "58212c4a-7ff5-461d-93b6-399616d2b3d1",
   "metadata": {
    "jp-MarkdownHeadingCollapsed": true,
    "tags": []
   },
   "source": [
    "## Question 5"
   ]
  },
  {
   "cell_type": "code",
   "execution_count": 30,
   "id": "f8db1022-5dbf-42ec-8880-083d81e7ad0d",
   "metadata": {},
   "outputs": [
    {
     "name": "stdout",
     "output_type": "stream",
     "text": [
      "2\n",
      "3\n",
      "5\n",
      "7\n",
      "11\n",
      "13\n",
      "17\n",
      "19\n",
      "23\n",
      "29\n",
      "31\n",
      "37\n",
      "41\n",
      "43\n",
      "47\n",
      "53\n",
      "59\n",
      "61\n",
      "67\n",
      "71\n"
     ]
    }
   ],
   "source": [
    "def prime_num():\n",
    "    p=[]\n",
    "    n=2\n",
    "    \n",
    "    while n<1000:\n",
    "        is_prime=True\n",
    "        \n",
    "        for prime in p:\n",
    "            if n% prime == 0:\n",
    "                is_prime=False\n",
    "                break\n",
    "                \n",
    "        if is_prime:\n",
    "            p.append(n)\n",
    "            yield n\n",
    "        n+=1\n",
    "        \n",
    "pri=prime_num()\n",
    "for i in range(20):\n",
    "    prime=next(pri)\n",
    "    print(prime)"
   ]
  },
  {
   "cell_type": "code",
   "execution_count": null,
   "id": "5e692691-db2d-409e-a24f-652c4e0aace1",
   "metadata": {},
   "outputs": [],
   "source": []
  }
 ],
 "metadata": {
  "kernelspec": {
   "display_name": "Python 3 (ipykernel)",
   "language": "python",
   "name": "python3"
  },
  "language_info": {
   "codemirror_mode": {
    "name": "ipython",
    "version": 3
   },
   "file_extension": ".py",
   "mimetype": "text/x-python",
   "name": "python",
   "nbconvert_exporter": "python",
   "pygments_lexer": "ipython3",
   "version": "3.10.8"
  }
 },
 "nbformat": 4,
 "nbformat_minor": 5
}
