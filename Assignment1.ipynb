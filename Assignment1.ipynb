{
 "cells": [
  {
   "cell_type": "code",
   "execution_count": 12,
   "id": "17db5a51-de51-4e40-ad9a-f522c62a450e",
   "metadata": {
    "tags": []
   },
   "outputs": [
    {
     "name": "stdout",
     "output_type": "stream",
     "text": [
      "<class 'str'>\n",
      "<class 'list'>\n",
      "<class 'float'>\n",
      "<class 'tuple'>\n"
     ]
    }
   ],
   "source": [
    "# Question 1\n",
    "#String Variable\n",
    "a=\"apple\"\n",
    "print(type(a))\n",
    "#List\n",
    "a=[1,2,3,\"Apple\",\"Ball\"]\n",
    "print(type(a))\n",
    "#Float\n",
    "a=1.5\n",
    "print(type(a))\n",
    "#Tuple\n",
    "a=(1,2,3,\"Apple\",\"Ball\")\n",
    "print(type(a))\n"
   ]
  },
  {
   "cell_type": "code",
   "execution_count": 16,
   "id": "6845faf9-72bf-4190-abea-6850ee04f54d",
   "metadata": {},
   "outputs": [
    {
     "name": "stdout",
     "output_type": "stream",
     "text": [
      "<class 'str'>\n",
      "<class 'str'>\n",
      "<class 'list'>\n",
      "<class 'int'>\n"
     ]
    }
   ],
   "source": [
    "# Question 2\n",
    "#(i) var1=''\n",
    "var1=''\n",
    "print(type(var1))\n",
    "#(ii) var2='[DS,ML,Python]'\n",
    "var2='[DS,ML,Python]'\n",
    "print(type(var2))\n",
    "#(iii) var3=['DS','ML','Python']\n",
    "var3=['DS','ML','Python']\n",
    "print(type(var3))\n",
    "#(iv) var4 = 1\n",
    "var4 = 1\n",
    "print(type(var4))\n"
   ]
  },
  {
   "cell_type": "code",
   "execution_count": 17,
   "id": "7f173468-fe95-40a5-b7e0-5ed5b529d482",
   "metadata": {},
   "outputs": [
    {
     "name": "stdout",
     "output_type": "stream",
     "text": [
      "2.0\n",
      "1\n",
      "1.5\n",
      "9\n"
     ]
    }
   ],
   "source": [
    "#Question 3\n",
    "\n",
    "# Operator - / -> Divison\n",
    "print(4/2)\n",
    "# Operator - % -> Remainder\n",
    "print(5%2)\n",
    "# Operator - // -> Floor Divison\n",
    "print(3/2)\n",
    "# Operator - ** -> Power\n",
    "print(3**2)\n",
    "\n"
   ]
  },
  {
   "cell_type": "code",
   "execution_count": 20,
   "id": "12f99c81-03fa-4528-966f-b3d219be5e51",
   "metadata": {},
   "outputs": [
    {
     "name": "stdout",
     "output_type": "stream",
     "text": [
      "1\n",
      "<class 'str'>\n",
      "34\n",
      "<class 'int'>\n",
      "1.4\n",
      "<class 'float'>\n",
      "Apple\n",
      "<class 'str'>\n",
      "21\n",
      "<class 'int'>\n",
      "(3+2j)\n",
      "<class 'complex'>\n",
      "True\n",
      "<class 'bool'>\n",
      "False\n",
      "<class 'bool'>\n",
      "(2+4j)\n",
      "<class 'complex'>\n",
      "2\n",
      "<class 'int'>\n"
     ]
    }
   ],
   "source": [
    "# Question 4\n",
    "\n",
    "l=[\"1\",34,1.4,\"Apple\",21,3+2j,True,False,2+4j,2]\n",
    "for i in l:\n",
    "    print(i)\n",
    "    print(type(i))"
   ]
  },
  {
   "cell_type": "code",
   "execution_count": 24,
   "id": "be0f88ab-0fb4-4239-a9fc-21557edc67af",
   "metadata": {},
   "outputs": [
    {
     "name": "stdout",
     "output_type": "stream",
     "text": [
      "2 can divide 10 5 times.\n"
     ]
    }
   ],
   "source": [
    "# Question 5\n",
    "A=10\n",
    "a=A\n",
    "B=2\n",
    "if A%B==0:\n",
    "    D=0\n",
    "    while A>0:\n",
    "        D+=1\n",
    "        A-=B\n",
    "    print(str(B)+\" can divide \"+str(a)+\" \"+str(D)+\" times.\")"
   ]
  },
  {
   "cell_type": "code",
   "execution_count": 28,
   "id": "dcdcc58e-9e50-4605-89d5-769a51b0ebbb",
   "metadata": {},
   "outputs": [
    {
     "name": "stdout",
     "output_type": "stream",
     "text": [
      "2 is not divisible by 3\n",
      "34 is not divisible by 3\n",
      "27 is divisible by 3\n",
      "15 is divisible by 3\n",
      "390 is divisible by 3\n",
      "251 is not divisible by 3\n",
      "90 is divisible by 3\n",
      "39 is divisible by 3\n",
      "46 is not divisible by 3\n",
      "61 is not divisible by 3\n",
      "459 is divisible by 3\n",
      "555 is divisible by 3\n",
      "10 is not divisible by 3\n",
      "99 is divisible by 3\n",
      "1320 is divisible by 3\n",
      "832 is not divisible by 3\n",
      "41 is not divisible by 3\n",
      "34 is not divisible by 3\n",
      "66 is divisible by 3\n",
      "743 is not divisible by 3\n",
      "124 is not divisible by 3\n",
      "56 is not divisible by 3\n",
      "19 is not divisible by 3\n",
      "68 is not divisible by 3\n",
      "89 is not divisible by 3\n"
     ]
    }
   ],
   "source": [
    "#Question 6\n",
    "l=[2,34,27,15,390,251,90,39,46,61,459,555,10,99,1320,832,41,34,66,743,124,56,19,68,89]\n",
    "for i in l:\n",
    "    if i%3==0:\n",
    "        print(str(i)+\" is divisible by 3\")\n",
    "    else:\n",
    "        print(str(i)+\" is not divisible by 3\")"
   ]
  },
  {
   "cell_type": "code",
   "execution_count": 1,
   "id": "f6648d00-b8d2-4618-9ce3-28662e764e80",
   "metadata": {},
   "outputs": [
    {
     "name": "stdout",
     "output_type": "stream",
     "text": [
      "[1, 4, 12]\n"
     ]
    },
    {
     "ename": "TypeError",
     "evalue": "'tuple' object does not support item assignment",
     "output_type": "error",
     "traceback": [
      "\u001b[0;31m---------------------------------------------------------------------------\u001b[0m",
      "\u001b[0;31mTypeError\u001b[0m                                 Traceback (most recent call last)",
      "Cell \u001b[0;32mIn[1], line 14\u001b[0m\n\u001b[1;32m     10\u001b[0m \u001b[38;5;66;03m#Mutable -> we can't modify the contents in the datatype and we add a same variable name it creates a new object in the datatype.\u001b[39;00m\n\u001b[1;32m     11\u001b[0m \u001b[38;5;66;03m#        -> we can't perform add,remove and modify elements operations.\u001b[39;00m\n\u001b[1;32m     12\u001b[0m \u001b[38;5;66;03m# Example: Tuple\u001b[39;00m\n\u001b[1;32m     13\u001b[0m l\u001b[38;5;241m=\u001b[39m(\u001b[38;5;241m1\u001b[39m,\u001b[38;5;241m2\u001b[39m,\u001b[38;5;241m3\u001b[39m)\n\u001b[0;32m---> 14\u001b[0m \u001b[43ml\u001b[49m\u001b[43m[\u001b[49m\u001b[38;5;241;43m2\u001b[39;49m\u001b[43m]\u001b[49m\u001b[38;5;241m=\u001b[39m\u001b[38;5;241m2\u001b[39m\n",
      "\u001b[0;31mTypeError\u001b[0m: 'tuple' object does not support item assignment"
     ]
    }
   ],
   "source": [
    "#Question 7\n",
    "\n",
    "#Mutable -> we can modify the contents in the datatype anytime\n",
    "#        -> we can perform add,remove and modify elements operations.\n",
    "# Example: List\n",
    "l=[1,4,2]\n",
    "l[2]=12\n",
    "print(l)\n",
    "\n",
    "#Mutable -> we can't modify the contents in the datatype and we add a same variable name it creates a new object in the datatype.\n",
    "#        -> we can't perform add,remove and modify elements operations.\n",
    "# Example: Tuple\n",
    "l=(1,2,3)\n",
    "l[2]=2\n",
    "\n"
   ]
  },
  {
   "cell_type": "code",
   "execution_count": null,
   "id": "f4cf65d1-fa20-4b80-acd5-7dd7141ec319",
   "metadata": {},
   "outputs": [],
   "source": []
  }
 ],
 "metadata": {
  "kernelspec": {
   "display_name": "Python 3 (ipykernel)",
   "language": "python",
   "name": "python3"
  },
  "language_info": {
   "codemirror_mode": {
    "name": "ipython",
    "version": 3
   },
   "file_extension": ".py",
   "mimetype": "text/x-python",
   "name": "python",
   "nbconvert_exporter": "python",
   "pygments_lexer": "ipython3",
   "version": "3.10.8"
  }
 },
 "nbformat": 4,
 "nbformat_minor": 5
}
